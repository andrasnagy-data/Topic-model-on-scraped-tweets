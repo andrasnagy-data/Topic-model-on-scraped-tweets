{
 "cells": [
  {
   "cell_type": "code",
   "execution_count": 2,
   "id": "efficient-poison",
   "metadata": {},
   "outputs": [],
   "source": [
    "import pandas as pd\n",
    "import numpy as np\n",
    "\n",
    "import preprocessor as p\n",
    "\n",
    "from sklearn.feature_extraction.text import TfidfVectorizer\n",
    "import sklearn.utils as utils"
   ]
  },
  {
   "cell_type": "markdown",
   "id": "moved-bleeding",
   "metadata": {},
   "source": [
    "**Load in dataframes**"
   ]
  },
  {
   "cell_type": "markdown",
   "id": "happy-theory",
   "metadata": {},
   "source": [
    "There are 4 different data frames each containing tweets that were scraped based on a different key word"
   ]
  },
  {
   "cell_type": "markdown",
   "id": "sharp-afghanistan",
   "metadata": {},
   "source": [
    "Later, all the tweets go into 1 large document-term matrix and by the use of randomized Singular Value Decomposition, I try to identify different topics in the document-term matrix."
   ]
  },
  {
   "cell_type": "code",
   "execution_count": 3,
   "id": "innocent-cross",
   "metadata": {},
   "outputs": [],
   "source": [
    "paths = ['data/alexey.csv', 'data/cheese.csv', 'data/gamestop.csv', 'data/ML.csv']\n",
    "\n",
    "alexey = pd.read_csv(paths[0])\n",
    "cheese = pd.read_csv(paths[1])\n",
    "gamestop = pd.read_csv(paths[2])\n",
    "ML = pd.read_csv(paths[3])"
   ]
  },
  {
   "cell_type": "code",
   "execution_count": 4,
   "id": "qualified-scout",
   "metadata": {},
   "outputs": [
    {
     "data": {
      "text/html": [
       "<div>\n",
       "<style scoped>\n",
       "    .dataframe tbody tr th:only-of-type {\n",
       "        vertical-align: middle;\n",
       "    }\n",
       "\n",
       "    .dataframe tbody tr th {\n",
       "        vertical-align: top;\n",
       "    }\n",
       "\n",
       "    .dataframe thead th {\n",
       "        text-align: right;\n",
       "    }\n",
       "</style>\n",
       "<table border=\"1\" class=\"dataframe\">\n",
       "  <thead>\n",
       "    <tr style=\"text-align: right;\">\n",
       "      <th></th>\n",
       "      <th>username</th>\n",
       "      <th>description</th>\n",
       "      <th>location</th>\n",
       "      <th>following</th>\n",
       "      <th>followers</th>\n",
       "      <th>totaltweets</th>\n",
       "      <th>retweetcount</th>\n",
       "      <th>text</th>\n",
       "      <th>hashtags</th>\n",
       "    </tr>\n",
       "  </thead>\n",
       "  <tbody>\n",
       "    <tr>\n",
       "      <th>0</th>\n",
       "      <td>26lizardking</td>\n",
       "      <td>EVERYWHERE N NOWHERE BABY</td>\n",
       "      <td>S8.....EUROPE</td>\n",
       "      <td>3029</td>\n",
       "      <td>2403</td>\n",
       "      <td>33240</td>\n",
       "      <td>0</td>\n",
       "      <td>All this on foot action has given me hard skin...</td>\n",
       "      <td>[]</td>\n",
       "    </tr>\n",
       "    <tr>\n",
       "      <th>1</th>\n",
       "      <td>VelvetBarstool</td>\n",
       "      <td>Interested in health, sports, fashion, busines...</td>\n",
       "      <td>Georgia, USA</td>\n",
       "      <td>246</td>\n",
       "      <td>278</td>\n",
       "      <td>16121</td>\n",
       "      <td>0</td>\n",
       "      <td>Get ready for the elitist virtual networking e...</td>\n",
       "      <td>[]</td>\n",
       "    </tr>\n",
       "    <tr>\n",
       "      <th>2</th>\n",
       "      <td>betting_cheese</td>\n",
       "      <td>Cheese that is here to make you 💵 Bet mainly o...</td>\n",
       "      <td>Cashville, SC</td>\n",
       "      <td>200</td>\n",
       "      <td>101</td>\n",
       "      <td>82</td>\n",
       "      <td>0</td>\n",
       "      <td>PoD 50-38 (56.8%) \\nWe are ready for another w...</td>\n",
       "      <td>[]</td>\n",
       "    </tr>\n",
       "    <tr>\n",
       "      <th>3</th>\n",
       "      <td>CowboyColleen</td>\n",
       "      <td>family. dogs. cabin. country. guns. conservative.</td>\n",
       "      <td>Eastern WA/North Idaho</td>\n",
       "      <td>560</td>\n",
       "      <td>566</td>\n",
       "      <td>58749</td>\n",
       "      <td>5946</td>\n",
       "      <td>The Republican Party is no longer the “wine an...</td>\n",
       "      <td>[]</td>\n",
       "    </tr>\n",
       "    <tr>\n",
       "      <th>4</th>\n",
       "      <td>DaVondraRamsey</td>\n",
       "      <td>To GOD Be The Glory 🙌🏾 • Isaiah 58:11 • PharmD...</td>\n",
       "      <td>In Class 🥴</td>\n",
       "      <td>740</td>\n",
       "      <td>795</td>\n",
       "      <td>11949</td>\n",
       "      <td>0</td>\n",
       "      <td>How to spot a graduate student\\n\\nNobody: ...\\...</td>\n",
       "      <td>[]</td>\n",
       "    </tr>\n",
       "  </tbody>\n",
       "</table>\n",
       "</div>"
      ],
      "text/plain": [
       "         username                                        description  \\\n",
       "0    26lizardking                          EVERYWHERE N NOWHERE BABY   \n",
       "1  VelvetBarstool  Interested in health, sports, fashion, busines...   \n",
       "2  betting_cheese  Cheese that is here to make you 💵 Bet mainly o...   \n",
       "3   CowboyColleen  family. dogs. cabin. country. guns. conservative.   \n",
       "4  DaVondraRamsey  To GOD Be The Glory 🙌🏾 • Isaiah 58:11 • PharmD...   \n",
       "\n",
       "                 location  following  followers  totaltweets  retweetcount  \\\n",
       "0          S8.....EUROPE        3029       2403        33240             0   \n",
       "1            Georgia, USA        246        278        16121             0   \n",
       "2           Cashville, SC        200        101           82             0   \n",
       "3  Eastern WA/North Idaho        560        566        58749          5946   \n",
       "4              In Class 🥴        740        795        11949             0   \n",
       "\n",
       "                                                text hashtags  \n",
       "0  All this on foot action has given me hard skin...       []  \n",
       "1  Get ready for the elitist virtual networking e...       []  \n",
       "2  PoD 50-38 (56.8%) \\nWe are ready for another w...       []  \n",
       "3  The Republican Party is no longer the “wine an...       []  \n",
       "4  How to spot a graduate student\\n\\nNobody: ...\\...       []  "
      ]
     },
     "execution_count": 4,
     "metadata": {},
     "output_type": "execute_result"
    }
   ],
   "source": [
    "cheese.head()"
   ]
  },
  {
   "cell_type": "code",
   "execution_count": 5,
   "id": "comfortable-scenario",
   "metadata": {},
   "outputs": [
    {
     "data": {
      "text/plain": [
       "((200, 9), (200, 9), (200, 9), (200, 9))"
      ]
     },
     "execution_count": 5,
     "metadata": {},
     "output_type": "execute_result"
    }
   ],
   "source": [
    "alexey.shape, cheese.shape, gamestop.shape, ML.shape"
   ]
  },
  {
   "cell_type": "markdown",
   "id": "afraid-antigua",
   "metadata": {},
   "source": [
    "**Drop unnecessary columns**"
   ]
  },
  {
   "cell_type": "markdown",
   "id": "floppy-shape",
   "metadata": {},
   "source": [
    "Keep the text column (this contains the tweet) as well as the hashtags column (this can be used to roughly identify the topic of the tweet)"
   ]
  },
  {
   "cell_type": "code",
   "execution_count": 6,
   "id": "registered-wheel",
   "metadata": {},
   "outputs": [],
   "source": [
    "alexey = alexey.loc[:, 'text': 'hashtags']\n",
    "cheese = cheese.loc[:, 'text': 'hashtags']\n",
    "gamestop = gamestop.loc[:, 'text': 'hashtags']\n",
    "ML = ML.loc[:, 'text': 'hashtags']"
   ]
  },
  {
   "cell_type": "code",
   "execution_count": 7,
   "id": "vital-arbitration",
   "metadata": {},
   "outputs": [
    {
     "data": {
      "text/plain": [
       "((200, 2), (200, 2), (200, 2), (200, 2))"
      ]
     },
     "execution_count": 7,
     "metadata": {},
     "output_type": "execute_result"
    }
   ],
   "source": [
    "alexey.shape, cheese.shape, gamestop.shape, ML.shape"
   ]
  },
  {
   "cell_type": "markdown",
   "id": "legitimate-industry",
   "metadata": {},
   "source": [
    "**Join dataframes (stack them along the indecies**"
   ]
  },
  {
   "cell_type": "code",
   "execution_count": 8,
   "id": "pursuant-respondent",
   "metadata": {},
   "outputs": [
    {
     "data": {
      "text/plain": [
       "(800, 2)"
      ]
     },
     "execution_count": 8,
     "metadata": {},
     "output_type": "execute_result"
    }
   ],
   "source": [
    "final_df = pd.concat([alexey, cheese, gamestop, ML]).reset_index(drop=True)\n",
    "final_df.shape"
   ]
  },
  {
   "cell_type": "code",
   "execution_count": 9,
   "id": "studied-handy",
   "metadata": {
    "scrolled": true
   },
   "outputs": [
    {
     "data": {
      "text/html": [
       "<div>\n",
       "<style scoped>\n",
       "    .dataframe tbody tr th:only-of-type {\n",
       "        vertical-align: middle;\n",
       "    }\n",
       "\n",
       "    .dataframe tbody tr th {\n",
       "        vertical-align: top;\n",
       "    }\n",
       "\n",
       "    .dataframe thead th {\n",
       "        text-align: right;\n",
       "    }\n",
       "</style>\n",
       "<table border=\"1\" class=\"dataframe\">\n",
       "  <thead>\n",
       "    <tr style=\"text-align: right;\">\n",
       "      <th></th>\n",
       "      <th>text</th>\n",
       "      <th>hashtags</th>\n",
       "    </tr>\n",
       "  </thead>\n",
       "  <tbody>\n",
       "    <tr>\n",
       "      <th>0</th>\n",
       "      <td>Alexey Navalny is a survivor and, as of Tuesda...</td>\n",
       "      <td>[]</td>\n",
       "    </tr>\n",
       "    <tr>\n",
       "      <th>1</th>\n",
       "      <td>Lawyer @SobolLubov, a close associate of Russi...</td>\n",
       "      <td>[]</td>\n",
       "    </tr>\n",
       "    <tr>\n",
       "      <th>2</th>\n",
       "      <td>I have a hunch that Yulia's moment is coming. ...</td>\n",
       "      <td>[]</td>\n",
       "    </tr>\n",
       "    <tr>\n",
       "      <th>3</th>\n",
       "      <td>Vladimir Putin's approval rating has fallen fr...</td>\n",
       "      <td>[]</td>\n",
       "    </tr>\n",
       "    <tr>\n",
       "      <th>4</th>\n",
       "      <td>Alexey Navalny is a survivor and, as of Tuesda...</td>\n",
       "      <td>[]</td>\n",
       "    </tr>\n",
       "  </tbody>\n",
       "</table>\n",
       "</div>"
      ],
      "text/plain": [
       "                                                text hashtags\n",
       "0  Alexey Navalny is a survivor and, as of Tuesda...       []\n",
       "1  Lawyer @SobolLubov, a close associate of Russi...       []\n",
       "2  I have a hunch that Yulia's moment is coming. ...       []\n",
       "3  Vladimir Putin's approval rating has fallen fr...       []\n",
       "4  Alexey Navalny is a survivor and, as of Tuesda...       []"
      ]
     },
     "execution_count": 9,
     "metadata": {},
     "output_type": "execute_result"
    }
   ],
   "source": [
    "final_df.head()"
   ]
  },
  {
   "cell_type": "markdown",
   "id": "precious-grocery",
   "metadata": {},
   "source": [
    "Cast text column to string"
   ]
  },
  {
   "cell_type": "code",
   "execution_count": 10,
   "id": "instrumental-malpractice",
   "metadata": {},
   "outputs": [
    {
     "data": {
      "text/plain": [
       "text        string\n",
       "hashtags    object\n",
       "dtype: object"
      ]
     },
     "execution_count": 10,
     "metadata": {},
     "output_type": "execute_result"
    }
   ],
   "source": [
    "final_df['text'] = final_df.text.astype('string')\n",
    "final_df.dtypes"
   ]
  },
  {
   "cell_type": "markdown",
   "id": "special-management",
   "metadata": {},
   "source": [
    "**Clean tweets**"
   ]
  },
  {
   "cell_type": "code",
   "execution_count": 11,
   "id": "abandoned-breeding",
   "metadata": {},
   "outputs": [],
   "source": [
    "p.set_options(p.OPT.URL, p.OPT.EMOJI, p.OPT.SMILEY, p.OPT.NUMBER)\n",
    "\n",
    "final_df.text = final_df.text.apply(lambda x: p.clean(x))"
   ]
  },
  {
   "cell_type": "code",
   "execution_count": 12,
   "id": "instructional-luxembourg",
   "metadata": {},
   "outputs": [
    {
     "data": {
      "text/html": [
       "<div>\n",
       "<style scoped>\n",
       "    .dataframe tbody tr th:only-of-type {\n",
       "        vertical-align: middle;\n",
       "    }\n",
       "\n",
       "    .dataframe tbody tr th {\n",
       "        vertical-align: top;\n",
       "    }\n",
       "\n",
       "    .dataframe thead th {\n",
       "        text-align: right;\n",
       "    }\n",
       "</style>\n",
       "<table border=\"1\" class=\"dataframe\">\n",
       "  <thead>\n",
       "    <tr style=\"text-align: right;\">\n",
       "      <th></th>\n",
       "      <th>text</th>\n",
       "      <th>hashtags</th>\n",
       "    </tr>\n",
       "  </thead>\n",
       "  <tbody>\n",
       "    <tr>\n",
       "      <th>0</th>\n",
       "      <td>Alexey Navalny is a survivor and, as of Tuesda...</td>\n",
       "      <td>[]</td>\n",
       "    </tr>\n",
       "    <tr>\n",
       "      <th>1</th>\n",
       "      <td>Lawyer @SobolLubov, a close associate of Russi...</td>\n",
       "      <td>[]</td>\n",
       "    </tr>\n",
       "    <tr>\n",
       "      <th>2</th>\n",
       "      <td>I have a hunch that Yulia's moment is coming.</td>\n",
       "      <td>[]</td>\n",
       "    </tr>\n",
       "    <tr>\n",
       "      <th>3</th>\n",
       "      <td>Vladimir Putin's approval rating has fallen fr...</td>\n",
       "      <td>[]</td>\n",
       "    </tr>\n",
       "    <tr>\n",
       "      <th>4</th>\n",
       "      <td>Alexey Navalny is a survivor and, as of Tuesda...</td>\n",
       "      <td>[]</td>\n",
       "    </tr>\n",
       "  </tbody>\n",
       "</table>\n",
       "</div>"
      ],
      "text/plain": [
       "                                                text hashtags\n",
       "0  Alexey Navalny is a survivor and, as of Tuesda...       []\n",
       "1  Lawyer @SobolLubov, a close associate of Russi...       []\n",
       "2      I have a hunch that Yulia's moment is coming.       []\n",
       "3  Vladimir Putin's approval rating has fallen fr...       []\n",
       "4  Alexey Navalny is a survivor and, as of Tuesda...       []"
      ]
     },
     "execution_count": 12,
     "metadata": {},
     "output_type": "execute_result"
    }
   ],
   "source": [
    "final_df.head()"
   ]
  },
  {
   "cell_type": "markdown",
   "id": "every-control",
   "metadata": {},
   "source": [
    "Look into some example tweets from the different themes"
   ]
  },
  {
   "cell_type": "markdown",
   "id": "alternative-microphone",
   "metadata": {},
   "source": [
    "Alexey"
   ]
  },
  {
   "cell_type": "code",
   "execution_count": 15,
   "id": "statistical-motion",
   "metadata": {},
   "outputs": [
    {
     "data": {
      "text/plain": [
       "'Who is Alexey Navalny - the man behind the big protests against Vladimir Putin and Russias elite? #AJStartHere with @SandraGathmann explain'"
      ]
     },
     "execution_count": 15,
     "metadata": {},
     "output_type": "execute_result"
    }
   ],
   "source": [
    "final_df.text[10]"
   ]
  },
  {
   "cell_type": "code",
   "execution_count": 20,
   "id": "assured-fight",
   "metadata": {},
   "outputs": [
    {
     "data": {
      "text/plain": [
       "\"The Kremlin's crackdown on Alexey Navalny risks turning him into a martyr\""
      ]
     },
     "execution_count": 20,
     "metadata": {},
     "output_type": "execute_result"
    }
   ],
   "source": [
    "final_df.text[110]"
   ]
  },
  {
   "cell_type": "code",
   "execution_count": 21,
   "id": "timely-wonder",
   "metadata": {},
   "outputs": [
    {
     "data": {
      "text/plain": [
       "'Vladimir Putin\\'s approval rating has fallen from % to % in months, but interestingly Alexey Navalny\\'s \"trust\" rating has reached a record high of %. He\\'s now ahead of Communist leader Zyuganov (4%), but still behind Nationalist Zhirinovsky (10%).'"
      ]
     },
     "execution_count": 21,
     "metadata": {},
     "output_type": "execute_result"
    }
   ],
   "source": [
    "final_df.text[168]"
   ]
  },
  {
   "cell_type": "markdown",
   "id": "other-technique",
   "metadata": {},
   "source": [
    "Cheese"
   ]
  },
  {
   "cell_type": "code",
   "execution_count": 16,
   "id": "differential-advantage",
   "metadata": {},
   "outputs": [
    {
     "data": {
      "text/plain": [
       "'Think about how whatever side effects you get from the covid vaccine you cannot sue them for medical help. Yet, they pushing it like government cheese which makes you sick later on. $573 million and no money for the families that suffered.'"
      ]
     },
     "execution_count": 16,
     "metadata": {},
     "output_type": "execute_result"
    }
   ],
   "source": [
    "final_df.text[210]"
   ]
  },
  {
   "cell_type": "code",
   "execution_count": 17,
   "id": "muslim-country",
   "metadata": {},
   "outputs": [
    {
     "data": {
      "text/plain": [
       "'cheese burger'"
      ]
     },
     "execution_count": 17,
     "metadata": {},
     "output_type": "execute_result"
    }
   ],
   "source": [
    "final_df.text[220]"
   ]
  },
  {
   "cell_type": "code",
   "execution_count": 18,
   "id": "electoral-render",
   "metadata": {},
   "outputs": [
    {
     "data": {
      "text/plain": [
       "'@Burrite @joshtpm FREEDOM FRIES cuz refusing to pretend Iraq had anything to do with /11 made them \"cheese eating surrender monkeys.\" The first BIG LIE of the GOP was \"Have You Forgotten?\" The second was WMD. And American troops died for these lies.'"
      ]
     },
     "execution_count": 18,
     "metadata": {},
     "output_type": "execute_result"
    }
   ],
   "source": [
    "final_df.text[300]"
   ]
  },
  {
   "cell_type": "markdown",
   "id": "welsh-satellite",
   "metadata": {},
   "source": [
    "Game Stop"
   ]
  },
  {
   "cell_type": "code",
   "execution_count": 19,
   "id": "supreme-circular",
   "metadata": {},
   "outputs": [
    {
     "data": {
      "text/plain": [
       "'@Malouka23B @MyUsernamesThis Well fuck I like mcyt and roblox guess that means I have to fucking quit my entire YouTube career and stop enjoying the game'"
      ]
     },
     "execution_count": 19,
     "metadata": {},
     "output_type": "execute_result"
    }
   ],
   "source": [
    "final_df.text[410]"
   ]
  },
  {
   "cell_type": "code",
   "execution_count": 22,
   "id": "ordered-mouth",
   "metadata": {},
   "outputs": [
    {
     "data": {
      "text/plain": [
       "'@0noriss @LiyahVII game stop really'"
      ]
     },
     "execution_count": 22,
     "metadata": {},
     "output_type": "execute_result"
    }
   ],
   "source": [
    "final_df.text[438]"
   ]
  },
  {
   "cell_type": "code",
   "execution_count": 23,
   "id": "supported-found",
   "metadata": {},
   "outputs": [
    {
     "data": {
      "text/plain": [
       "'@ClashRoyale Ive started a new account because, I changed phones and I didnt save my progress on the old one. But now I wont stop playing against bots, and its really frustrating, I really enjoy the game but this is killing my interest in this game...'"
      ]
     },
     "execution_count": 23,
     "metadata": {},
     "output_type": "execute_result"
    }
   ],
   "source": [
    "final_df.text[500]"
   ]
  },
  {
   "cell_type": "markdown",
   "id": "precise-closing",
   "metadata": {},
   "source": [
    "Machine Learning (ML)"
   ]
  },
  {
   "cell_type": "code",
   "execution_count": 24,
   "id": "stretch-walnut",
   "metadata": {},
   "outputs": [
    {
     "data": {
      "text/plain": [
       "'Errors of machine learning #100daysofcode #AI #ArtificialIntelligence #Analytics #MachineLearning #DataScience #devcommunity #datadriven'"
      ]
     },
     "execution_count": 24,
     "metadata": {},
     "output_type": "execute_result"
    }
   ],
   "source": [
    "final_df.text[602]"
   ]
  },
  {
   "cell_type": "code",
   "execution_count": 25,
   "id": "traditional-brazilian",
   "metadata": {},
   "outputs": [
    {
     "data": {
      "text/plain": [
       "'Professor Brian Cox: Machines of the Future! @ProfBrianCox introduces a new school resource, produced by @BritSciAssoc on behalf of the @RoyalSociety - a @CRESTAwards Discovery Day! Students can discover the importance of machine learning: @AllAboutSTEM'"
      ]
     },
     "execution_count": 25,
     "metadata": {},
     "output_type": "execute_result"
    }
   ],
   "source": [
    "final_df.text[679]"
   ]
  },
  {
   "cell_type": "code",
   "execution_count": 26,
   "id": "ignored-detector",
   "metadata": {},
   "outputs": [
    {
     "data": {
      "text/plain": [
       "'Scientific computing tools keep getting easier to use and more visual. Math Inspector is an open-source, coding environment (Python based ) for visualizing and animating math operations. Machine learning students might find this useful.'"
      ]
     },
     "execution_count": 26,
     "metadata": {},
     "output_type": "execute_result"
    }
   ],
   "source": [
    "final_df.text[789]"
   ]
  },
  {
   "cell_type": "markdown",
   "id": "early-gasoline",
   "metadata": {},
   "source": [
    "*The themes have quite mixed tweets, especially the \"cheese\" topic. I did not anticipate the use of slang, when I scraped tweets*"
   ]
  },
  {
   "cell_type": "markdown",
   "id": "fitting-shanghai",
   "metadata": {},
   "source": [
    "**Vectorizer instance**"
   ]
  },
  {
   "cell_type": "code",
   "execution_count": 27,
   "id": "integrated-journey",
   "metadata": {},
   "outputs": [],
   "source": [
    "vectorizer = TfidfVectorizer(stop_words= 'english')"
   ]
  },
  {
   "cell_type": "markdown",
   "id": "norwegian-structure",
   "metadata": {},
   "source": [
    "Create document-term matrix"
   ]
  },
  {
   "cell_type": "code",
   "execution_count": 28,
   "id": "dangerous-squad",
   "metadata": {},
   "outputs": [],
   "source": [
    "dtm = vectorizer.fit_transform(final_df.text).toarray()\n",
    "vocab = np.array(vectorizer.get_feature_names())"
   ]
  },
  {
   "cell_type": "code",
   "execution_count": 29,
   "id": "religious-crystal",
   "metadata": {},
   "outputs": [
    {
     "name": "stdout",
     "output_type": "stream",
     "text": [
      "The shape of the document term matrix is : (800, 3443)       and the number of tokens in the vocabulary is : 3443.\n"
     ]
    }
   ],
   "source": [
    "print(f'The shape of the document term matrix is : {dtm.shape} \\\n",
    "      and the number of tokens in the vocabulary is : {len(vocab)}.')"
   ]
  },
  {
   "cell_type": "markdown",
   "id": "faced-couple",
   "metadata": {},
   "source": [
    "Look into the vocabulary"
   ]
  },
  {
   "cell_type": "code",
   "execution_count": 30,
   "id": "particular-links",
   "metadata": {},
   "outputs": [
    {
     "data": {
      "text/plain": [
       "array(['brave', 'bravery', 'bravest', 'brazilian', 'bread', 'breads',\n",
       "       'break', 'breakfast', 'breaking', 'breast'], dtype='<U30')"
      ]
     },
     "execution_count": 30,
     "metadata": {},
     "output_type": "execute_result"
    }
   ],
   "source": [
    "vocab[400:410]"
   ]
  },
  {
   "cell_type": "markdown",
   "id": "least-violence",
   "metadata": {},
   "source": [
    "Helper function to extract \"top words\""
   ]
  },
  {
   "cell_type": "code",
   "execution_count": 31,
   "id": "weekly-cambridge",
   "metadata": {},
   "outputs": [],
   "source": [
    "def show_topics(V):\n",
    "    top_words = lambda x: [vocab[i] for i in np.argsort(x)[:-num_top_words-1:-1]]\n",
    "    topic_words = ([top_words(x) for x in V])\n",
    "    return [' '.join(x) for x in topic_words]"
   ]
  },
  {
   "cell_type": "code",
   "execution_count": 32,
   "id": "functional-determination",
   "metadata": {},
   "outputs": [],
   "source": [
    "d = 8 # number of topics\n",
    "num_top_words = 10 # number of top words"
   ]
  },
  {
   "cell_type": "code",
   "execution_count": 33,
   "id": "graduate-title",
   "metadata": {},
   "outputs": [],
   "source": [
    "U, s, V = utils.extmath.randomized_svd(dtm, d, random_state= 42)"
   ]
  },
  {
   "cell_type": "code",
   "execution_count": 34,
   "id": "solid-ribbon",
   "metadata": {},
   "outputs": [
    {
     "data": {
      "text/plain": [
       "['rating putin vladimir navalny alexey zyuganov record communist reached nationalist',\n",
       " 'regret biographyone chapter writing prisoner marking survivor tuesday new vladimir',\n",
       " 'pseudo sinking farce absurd titanic style worthy changed poisoning case',\n",
       " 'learning machine machinelearning ai datascience 100daysofcode analytics python artificialintelligence devcommunity',\n",
       " 'aly rubinadilaik doing game stop gony strategy jasminbasin clever contestant',\n",
       " 'crackdown risks turning kremlin martyr navalny alexey amartyr rubinadilaik aly',\n",
       " 'cheese party burger wine blue beer jeans longer republican eat',\n",
       " 'cheese burger ajstarthere sandragathmann protests explain russias man elite big']"
      ]
     },
     "execution_count": 34,
     "metadata": {},
     "output_type": "execute_result"
    }
   ],
   "source": [
    "show_topics(V)"
   ]
  }
 ],
 "metadata": {
  "kernelspec": {
   "display_name": "Python 3",
   "language": "python",
   "name": "python3"
  },
  "language_info": {
   "codemirror_mode": {
    "name": "ipython",
    "version": 3
   },
   "file_extension": ".py",
   "mimetype": "text/x-python",
   "name": "python",
   "nbconvert_exporter": "python",
   "pygments_lexer": "ipython3",
   "version": "3.8.5"
  }
 },
 "nbformat": 4,
 "nbformat_minor": 5
}
